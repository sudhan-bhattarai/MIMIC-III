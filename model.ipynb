{
 "cells": [
  {
   "cell_type": "markdown",
   "metadata": {
    "id": "Lhiaq5kIBkPA"
   },
   "source": [
    "### Import libraries"
   ]
  },
  {
   "cell_type": "code",
   "execution_count": 24,
   "metadata": {
    "id": "YbKYBPDcBkPC",
    "outputId": "af561028-853e-4bff-efb5-5c4cfc0c37d4"
   },
   "outputs": [],
   "source": [
    "import pandas as pd\n",
    "import numpy as np\n",
    "import matplotlib.pyplot as plt\n",
    "\n",
    "from keras import Model, Input, optimizers\n",
    "from keras.models import Sequential\n",
    "from keras.layers import Dense, LSTM, Embedding, Dropout, GRU, concatenate\n",
    "from keras.preprocessing.sequence import pad_sequences\n",
    "from keras.preprocessing.text import Tokenizer\n",
    "from keras.callbacks import EarlyStopping\n",
    "\n",
    "from sklearn.linear_model import LinearRegression\n",
    "from sklearn.model_selection import cross_val_predict, cross_val_score\n",
    "from sklearn.metrics import mean_squared_error\n",
    "from sklearn.model_selection import train_test_split\n",
    "from sklearn.metrics import r2_score\n",
    "from sklearn.preprocessing import PolynomialFeatures\n",
    "\n",
    "pd.options.mode.chained_assignment = None"
   ]
  },
  {
   "cell_type": "markdown",
   "metadata": {
    "id": "ODhkRv5tBkPD"
   },
   "source": [
    "### Load data"
   ]
  },
  {
   "cell_type": "code",
   "execution_count": 25,
   "metadata": {
    "id": "61M-abDRBkPE",
    "outputId": "c9183c0b-caa2-474b-f054-ee41ae2999dc"
   },
   "outputs": [
    {
     "data": {
      "text/html": [
       "<div>\n",
       "<style scoped>\n",
       "    .dataframe tbody tr th:only-of-type {\n",
       "        vertical-align: middle;\n",
       "    }\n",
       "\n",
       "    .dataframe tbody tr th {\n",
       "        vertical-align: top;\n",
       "    }\n",
       "\n",
       "    .dataframe thead th {\n",
       "        text-align: right;\n",
       "    }\n",
       "</style>\n",
       "<table border=\"1\" class=\"dataframe\">\n",
       "  <thead>\n",
       "    <tr style=\"text-align: right;\">\n",
       "      <th></th>\n",
       "      <th>Unnamed: 0</th>\n",
       "      <th>HADM_ID</th>\n",
       "      <th>SUBJECT_ID</th>\n",
       "      <th>NUMBER_OF_PROCEDURES</th>\n",
       "      <th>NUMBER_OF_DIAGNOSIS</th>\n",
       "      <th>LENGTH_OF_STAY</th>\n",
       "      <th>ICU_LOS</th>\n",
       "      <th>TEXT</th>\n",
       "      <th>MARRIED</th>\n",
       "      <th>DIVORCED</th>\n",
       "      <th>SINGLE</th>\n",
       "      <th>SEPARATED</th>\n",
       "      <th>WIDOWED</th>\n",
       "      <th>UNKNOWN (DEFAULT)</th>\n",
       "      <th>LIFE PARTNER</th>\n",
       "    </tr>\n",
       "  </thead>\n",
       "  <tbody>\n",
       "    <tr>\n",
       "      <th>0</th>\n",
       "      <td>0</td>\n",
       "      <td>100009</td>\n",
       "      <td>533</td>\n",
       "      <td>4</td>\n",
       "      <td>144</td>\n",
       "      <td>4</td>\n",
       "      <td>2.4908</td>\n",
       "      <td>grafting cardiac catheterization date 2162 5 1...</td>\n",
       "      <td>1</td>\n",
       "      <td>0</td>\n",
       "      <td>0</td>\n",
       "      <td>0</td>\n",
       "      <td>0</td>\n",
       "      <td>0</td>\n",
       "      <td>0</td>\n",
       "    </tr>\n",
       "    <tr>\n",
       "      <th>1</th>\n",
       "      <td>1</td>\n",
       "      <td>100012</td>\n",
       "      <td>60039</td>\n",
       "      <td>4</td>\n",
       "      <td>165</td>\n",
       "      <td>10</td>\n",
       "      <td>3.5763</td>\n",
       "      <td>6 mchc 36 6 rdw 13 5 2177 3 12 04 05pm hba1c 5...</td>\n",
       "      <td>1</td>\n",
       "      <td>0</td>\n",
       "      <td>0</td>\n",
       "      <td>0</td>\n",
       "      <td>0</td>\n",
       "      <td>0</td>\n",
       "      <td>0</td>\n",
       "    </tr>\n",
       "    <tr>\n",
       "      <th>2</th>\n",
       "      <td>2</td>\n",
       "      <td>100028</td>\n",
       "      <td>53456</td>\n",
       "      <td>5</td>\n",
       "      <td>99</td>\n",
       "      <td>6</td>\n",
       "      <td>2.0321</td>\n",
       "      <td>bolus lr bp improved 90 100 given ivf needed m...</td>\n",
       "      <td>0</td>\n",
       "      <td>0</td>\n",
       "      <td>1</td>\n",
       "      <td>0</td>\n",
       "      <td>0</td>\n",
       "      <td>0</td>\n",
       "      <td>0</td>\n",
       "    </tr>\n",
       "    <tr>\n",
       "      <th>3</th>\n",
       "      <td>3</td>\n",
       "      <td>100034</td>\n",
       "      <td>51495</td>\n",
       "      <td>3</td>\n",
       "      <td>88</td>\n",
       "      <td>3</td>\n",
       "      <td>1.1599</td>\n",
       "      <td>1 diuresed towards preoperative weight pod 1 t...</td>\n",
       "      <td>1</td>\n",
       "      <td>0</td>\n",
       "      <td>0</td>\n",
       "      <td>0</td>\n",
       "      <td>0</td>\n",
       "      <td>0</td>\n",
       "      <td>0</td>\n",
       "    </tr>\n",
       "    <tr>\n",
       "      <th>4</th>\n",
       "      <td>4</td>\n",
       "      <td>100037</td>\n",
       "      <td>58947</td>\n",
       "      <td>13</td>\n",
       "      <td>6846</td>\n",
       "      <td>46</td>\n",
       "      <td>1.8369</td>\n",
       "      <td>73 p 83 r 20 o2 975 ra general alert oriented ...</td>\n",
       "      <td>1</td>\n",
       "      <td>0</td>\n",
       "      <td>0</td>\n",
       "      <td>0</td>\n",
       "      <td>0</td>\n",
       "      <td>0</td>\n",
       "      <td>0</td>\n",
       "    </tr>\n",
       "  </tbody>\n",
       "</table>\n",
       "</div>"
      ],
      "text/plain": [
       "   Unnamed: 0  HADM_ID  SUBJECT_ID  NUMBER_OF_PROCEDURES  NUMBER_OF_DIAGNOSIS  \\\n",
       "0           0   100009         533                     4                  144   \n",
       "1           1   100012       60039                     4                  165   \n",
       "2           2   100028       53456                     5                   99   \n",
       "3           3   100034       51495                     3                   88   \n",
       "4           4   100037       58947                    13                 6846   \n",
       "\n",
       "   LENGTH_OF_STAY  ICU_LOS                                               TEXT  \\\n",
       "0               4   2.4908  grafting cardiac catheterization date 2162 5 1...   \n",
       "1              10   3.5763  6 mchc 36 6 rdw 13 5 2177 3 12 04 05pm hba1c 5...   \n",
       "2               6   2.0321  bolus lr bp improved 90 100 given ivf needed m...   \n",
       "3               3   1.1599  1 diuresed towards preoperative weight pod 1 t...   \n",
       "4              46   1.8369  73 p 83 r 20 o2 975 ra general alert oriented ...   \n",
       "\n",
       "   MARRIED  DIVORCED  SINGLE  SEPARATED  WIDOWED  UNKNOWN (DEFAULT)  \\\n",
       "0        1         0       0          0        0                  0   \n",
       "1        1         0       0          0        0                  0   \n",
       "2        0         0       1          0        0                  0   \n",
       "3        1         0       0          0        0                  0   \n",
       "4        1         0       0          0        0                  0   \n",
       "\n",
       "   LIFE PARTNER  \n",
       "0             0  \n",
       "1             0  \n",
       "2             0  \n",
       "3             0  \n",
       "4             0  "
      ]
     },
     "execution_count": 25,
     "metadata": {},
     "output_type": "execute_result"
    }
   ],
   "source": [
    "df = pd.read_csv(r'data_extracted.csv')\n",
    "df.head()"
   ]
  },
  {
   "cell_type": "markdown",
   "metadata": {
    "id": "_-iCzLoZBkPE"
   },
   "source": [
    "### Text and Numeric data"
   ]
  },
  {
   "cell_type": "code",
   "execution_count": 26,
   "metadata": {
    "id": "TnjdUTvsBkPE",
    "outputId": "998e5892-c1e3-4c45-90c9-8ad4ba810c76"
   },
   "outputs": [
    {
     "name": "stdout",
     "output_type": "stream",
     "text": [
      "grafting cardiac catheterization date 2162 5 11 place mwmc lad chronic total occlusion proximally distal filling via collaterals rca chronic total occlusion non dominant rca 90 lcx new complex 90 stenosis prox lcx involving bifurcation lcx proper large om2 old stent lcx widely patent mod lv systolic dysfx anterior apical infero apical ak reduced ef 30 lvedp 36mmhg valvular dz past medical history cad ami 2143 7 3 name prefix prefixes last name prefixes lcx 6 2155 cardiomyopathy ef 35 45 depending study ventricular tachycardia p aicd 8 2155 atrial flutter p ablation 8 2155 hypertension dyslipidemia insulin dependent diabetes mellitus obesity conduction disease lafb peripheral vascular disease p right fem doctor last name bypas 3 2161 left leg claudication right thigh tumor p radiation excision 2141 social history race caucasian last dental exam lives wife occupation name2 ni 56028 owns company tobacco 2ppd x20 yrs quit 2143 etoh occaisional family history father died 50yo cirrhosis mother died 42yo mi physical exam pulse 58 resp 16 o2 sat 97 ra b p right 124 76 left height 5 62 weight 259 lbs general skin dry x intact x heent perrla x eomi x neck supple x full rom x chest lungs clear bilaterally x heart rrr x irregular murmur abdomen soft x non distended x non tender x bowel sounds x extremities warm x well perfused x edema none varicosities none x well healed right vein harvest site neuro grossly intact pulses femoral right 2 left 2 dp right 2 left 2 pt name ni 167 2 left 2 radial right 2 left 2 carotid bruit none right 2 left 2 pertinent results 2162 5 17 prebypass left atrium dilated spontaneous echo contrast seen body left atrium left atrial appendage spontaneous echo contrast seen body right atrium atrial septal defect\n"
     ]
    },
    {
     "data": {
      "text/plain": [
       "array([[  4.    , 144.    ,   2.4908, ...,   0.    ,   0.    ,   0.    ],\n",
       "       [  4.    , 165.    ,   3.5763, ...,   0.    ,   0.    ,   0.    ],\n",
       "       [  5.    ,  99.    ,   2.0321, ...,   0.    ,   0.    ,   0.    ],\n",
       "       ...,\n",
       "       [  2.    ,  52.    ,   2.0489, ...,   1.    ,   0.    ,   0.    ],\n",
       "       [  4.    , 261.    ,   6.9597, ...,   0.    ,   0.    ,   0.    ],\n",
       "       [  3.    , 192.    ,   1.0623, ...,   0.    ,   0.    ,   0.    ]])"
      ]
     },
     "execution_count": 26,
     "metadata": {},
     "output_type": "execute_result"
    }
   ],
   "source": [
    "text_input = df[\"TEXT\"].values\n",
    "numeric_input = df[[\"NUMBER_OF_PROCEDURES\", \"NUMBER_OF_DIAGNOSIS\",\\\n",
    "                    \"ICU_LOS\", \"MARRIED\", \"DIVORCED\", \"SINGLE\", \"SEPARATED\",\\\n",
    "                    \"WIDOWED\", \"UNKNOWN (DEFAULT)\",\"LIFE PARTNER\"]]\n",
    "print(text_input[0])\n",
    "numeric_input.values"
   ]
  },
  {
   "cell_type": "markdown",
   "metadata": {
    "id": "T8vNKnGlBkPF"
   },
   "source": [
    "### Tokenize the text data"
   ]
  },
  {
   "cell_type": "code",
   "execution_count": 27,
   "metadata": {
    "id": "H26X-2J-BkPF",
    "outputId": "bd9937ea-2221-484e-813e-4457f4e30611"
   },
   "outputs": [
    {
     "data": {
      "text/plain": [
       "array([[  815,    76,   349, ...,   125,   527,   642],\n",
       "       [   14,   126,   557, ...,    71,   132,   322],\n",
       "       [ 1987,  7137,   310, ...,    35,   200,  2350],\n",
       "       ...,\n",
       "       [  415,   233,     1, ...,    27,     1,  1578],\n",
       "       [ 1025,  1585,     8, ...,    22,   228, 40130],\n",
       "       [   78,     3,    24, ...,  1185,     2,    65]])"
      ]
     },
     "execution_count": 27,
     "metadata": {},
     "output_type": "execute_result"
    }
   ],
   "source": [
    "max_sequence = 300\n",
    "max_words = 50000\n",
    "X = text_input\n",
    "tokenizer = Tokenizer(num_words = max_words, filters='!\"#$%&()*+,-./:;<=>?@[\\\\]^_`{|}~\\t\\n', lower = True)\n",
    "tokenizer.fit_on_texts(X)\n",
    "X = tokenizer.texts_to_sequences(X)\n",
    "X = pad_sequences(X, maxlen = max_sequence)\n",
    "X"
   ]
  },
  {
   "cell_type": "markdown",
   "metadata": {
    "id": "YgLWNkLyBkPF"
   },
   "source": [
    "### Input and Output Arrays"
   ]
  },
  {
   "cell_type": "code",
   "execution_count": 28,
   "metadata": {
    "id": "xz4a0bRaBkPG",
    "outputId": "26117284-2a08-49a7-88b7-8e625ddfb136"
   },
   "outputs": [
    {
     "name": "stdout",
     "output_type": "stream",
     "text": [
      "(10767, 300) (10767,) (10767, 10)\n"
     ]
    }
   ],
   "source": [
    "x = X                 # text input   (  , 250)                    \n",
    "z = numeric_input.values     # numeric inpute(  , 10)\n",
    "y = df[\"LENGTH_OF_STAY\"].values\n",
    "\n",
    "print(x.shape,y.shape,z.shape)"
   ]
  },
  {
   "cell_type": "markdown",
   "metadata": {
    "id": "FGtdm2zTBkPG"
   },
   "source": [
    "### Exploratory analysis"
   ]
  },
  {
   "cell_type": "code",
   "execution_count": 29,
   "metadata": {
    "id": "V99W8TSABkPG",
    "outputId": "02cd7991-e2f6-4d67-84ee-9697ee1113df"
   },
   "outputs": [
    {
     "name": "stdout",
     "output_type": "stream",
     "text": [
      "Output (Length of stay):\n",
      " Mean : 9.338720163462432, Median : 7.0, Max : 169, Min : 0, Range: 169 \n",
      "\n",
      "NUMBER_OF_PROCEDURES:\n",
      "Mean : 4.729265347822049, Median : 4.0, Max : 40.0, Min : 1.0, Range: 39.0 \n",
      "\n",
      "NUMBER_OF_DIAGNOSIS:\n",
      "Mean : 354.79752948825114, Median : 150.0, Max : 56400.0, Min : 4.0, Range: 56396.0 \n",
      "\n",
      "ICU_LOS:\n",
      "Mean : 3.0841625801058785, Median : 2.0546, Max : 169.4202, Min : 0.0001, Range: 169.4201 \n",
      "\n",
      "MARRIED:\n",
      "Mean : 0.5968236277514628, Median : 1.0, Max : 1.0, Min : 0.0, Range: 1.0 \n",
      "\n",
      "DIVORCED:\n",
      "Mean : 0.060183895235441626, Median : 0.0, Max : 1.0, Min : 0.0, Range: 1.0 \n",
      "\n",
      "SINGLE:\n",
      "Mean : 0.21714498003157798, Median : 0.0, Max : 1.0, Min : 0.0, Range: 1.0 \n",
      "\n",
      "SEPARATED:\n",
      "Mean : 0.012445435125847497, Median : 0.0, Max : 1.0, Min : 0.0, Range: 1.0 \n",
      "\n",
      "WIDOWED:\n",
      "Mean : 0.10977988297575926, Median : 0.0, Max : 1.0, Min : 0.0, Range: 1.0 \n",
      "\n",
      "UNKNOWN (DEFAULT):\n",
      "Mean : 0.003436426116838488, Median : 0.0, Max : 1.0, Min : 0.0, Range: 1.0 \n",
      "\n",
      "LIFE PARTNER:\n",
      "Mean : 0.0001857527630723507, Median : 0.0, Max : 1.0, Min : 0.0, Range: 1.0 \n",
      "\n"
     ]
    },
    {
     "data": {
      "image/png": "[encoded data removed]",
      "text/plain": [
       "<Figure size 432x288 with 2 Axes>"
      ]
     },
     "metadata": {
      "needs_background": "light"
     },
     "output_type": "display_data"
    }
   ],
   "source": [
    "print('Output (Length of stay):\\n','Mean : {}, Median : {}, Max : {}, Min : {}, Range: {}'\\\n",
    "      .format(np.mean(y), np.median(y), np.max(y), np.min(y), np.max(y) - np.min(y)), '\\n')\n",
    "for i in range(z.shape[1]):\n",
    "    print('{}:'.format(numeric_input.columns[i]))\n",
    "    print('Mean : {}, Median : {}, Max : {}, Min : {}, Range: {}'\\\n",
    "          .format(np.mean(z[:,i]), np.median(z[:,i]), np.max(z[:,i]), np.min(z[:,i]), \\\n",
    "                  np.max(z[:,i]) - np.min(z[:,i])), '\\n')\n",
    "plt.subplot(1,3,1)\n",
    "plt.scatter(range(len(y)), y, s= 1, color = 'g', label = 'scatter')\n",
    "plt.hlines(y = np.mean(y), xmin = 0, xmax = len(y), colors = 'b', label = 'mean')\n",
    "plt.title('Output : scatter plot & mean'), plt.legend(loc = 1)\n",
    "plt.subplot(1,3,3)\n",
    "plt.hist(y, bins = 6, label = 'hist')\n",
    "plt.vlines(x = np.mean(y), ymin = 0, ymax = len(y), colors = 'g', label = 'mean')\n",
    "plt.title('Output : histogram & mean'), plt.legend(loc = 1)\n",
    "plt.show()"
   ]
  },
  {
   "cell_type": "markdown",
   "metadata": {
    "id": "caTvXXEmBkPG"
   },
   "source": [
    "### Train/Test Split"
   ]
  },
  {
   "cell_type": "code",
   "execution_count": 30,
   "metadata": {
    "id": "ZRLpYn_iBkPH",
    "outputId": "80e7ce16-f16a-414e-dbc5-eade170bc423"
   },
   "outputs": [
    {
     "name": "stdout",
     "output_type": "stream",
     "text": [
      "\n",
      "Number of training data: 8613\n",
      "\n",
      "Number of text data: 2154\n"
     ]
    },
    {
     "data": {
      "text/plain": [
       "(8613, 10)"
      ]
     },
     "execution_count": 30,
     "metadata": {},
     "output_type": "execute_result"
    }
   ],
   "source": [
    "test_size = 0.2\n",
    "x_train, x_test, z_train, z_test, y_train, y_test = train_test_split(x,z,y, test_size = test_size, random_state = 0)\n",
    "print('\\nNumber of training data:',x_train.shape[0])\n",
    "print('\\nNumber of text data:',x_test.shape[0])\n",
    "z_train.shape"
   ]
  },
  {
   "cell_type": "markdown",
   "metadata": {
    "id": "1HBUxK49BkPH"
   },
   "source": [
    "### Model structure"
   ]
  },
  {
   "cell_type": "markdown",
   "metadata": {
    "id": "BUs-5pjlBkPH"
   },
   "source": [
    "#### Linear Regression Models"
   ]
  },
  {
   "cell_type": "code",
   "execution_count": null,
   "metadata": {
    "id": "ahVoci5tBkPH",
    "outputId": "0f49591e-631b-466f-a472-859a93b53e14"
   },
   "outputs": [],
   "source": [
    "lr = LinearRegression()\n",
    "\n",
    "yhat_cv = cross_val_predict(lr, z_train, y_train, cv = 4)\n",
    "yhat_cv_text = cross_val_predict(lr, x_train, y_train, cv = 4)\n",
    "\n",
    "score_cv = cross_val_score(lr, z_train, y_train, cv = 4)\n",
    "score_cv_text = cross_val_score(lr, x_train, y_train, cv = 4)\n",
    "\n",
    "R2 = r2_score(y_train, yhat_cv)\n",
    "MSE = mean_squared_error(y_train, yhat_cv)\n",
    "MSE_text = mean_squared_error(y_train, yhat_cv_text)\n",
    "\n",
    "lr.fit(z_train, y_train)\n",
    "yhat_train = lr.predict(z_train)\n",
    "score_train = lr.score(z_train, y_train)\n",
    "print('\\nLinear regression training score (R squared) of numeric data ( , 10) is',score_train)\n",
    "\n",
    "lr.fit(x_train, y_train)\n",
    "yhat_train_text = lr.predict(x_train)\n",
    "score_train_text = lr.score(x_train, y_train)\n",
    "print('\\nLinear regression training score (R squared) of text data ( , 250) is', score_train_text)"
   ]
  },
  {
   "cell_type": "markdown",
   "metadata": {},
   "source": [
    "#### Polynomial linear regression"
   ]
  },
  {
   "cell_type": "code",
   "execution_count": null,
   "metadata": {},
   "outputs": [],
   "source": [
    "pf = PolynomialFeatures(degree = 2)\n",
    "z_train_poly = pf.fit_transform(z_train)\n",
    "z_test_poly = pf.fit_transform(z_test)\n",
    "\n",
    "x_train_poly = pf.fit_transform(x_train)\n",
    "x_test_poly = pf.fit_transform(x_test)\n",
    "\n",
    "poly_num = LinearRegression()\n",
    "poly_num.fit(z_train_poly, y_train)\n",
    "yhat_poly_num = poly_num.predict(z_train_poly)\n",
    "\n",
    "poly_text = LinearRegression()\n",
    "poly_text.fit(x_train_poly, y_train)\n",
    "yhat_poly_text = poly_text.predict(x_train_poly)\n",
    "\n",
    "print('Numeric:')\n",
    "print('\\nNumeric: R squared error for polynomial regression is:',poly_num.score(z_train_poly, y_train))\n",
    "print('Actual output:', y_train[:5])\n",
    "print('\\nPredicted output:', yhat_poly_num[:5])\n",
    "print('\\nText:')\n",
    "print('\\nR squared error for polynomial regression is:',poly_text.score(x_train_poly, y_train))\n",
    "print('Actual output:', y_train[:5])\n",
    "print('\\nPredicted output:', yhat_poly_text[:5])"
   ]
  },
  {
   "cell_type": "code",
   "execution_count": null,
   "metadata": {},
   "outputs": [],
   "source": [
    "z_train_poly.shape"
   ]
  },
  {
   "cell_type": "markdown",
   "metadata": {
    "id": "07G910v5BkPI"
   },
   "source": [
    "#### DNN : Numeric data only"
   ]
  },
  {
   "cell_type": "code",
   "execution_count": null,
   "metadata": {
    "id": "7e2eeZGRBkPI",
    "outputId": "c5569e8e-b7fd-41b5-9c10-74474929abd7"
   },
   "outputs": [],
   "source": [
    "m_num = Sequential() \n",
    "num_input = Input(shape = (10, ))\n",
    "numl = Dense(512, activation = 'linear')(num_input)\n",
    "d1 = Dropout(0.2)(numl)\n",
    "numl2 = Dense(256, activation = 'relu')(d1)\n",
    "d2 = Dropout(0.2)(numl2)\n",
    "numl3 = Dense(128, activation = 'relu')(d2)\n",
    "d3 = Dropout(0.2)(numl3)\n",
    "numl4 = Dense(64, activation = 'relu')(d3)\n",
    "d4 = Dropout(0.2)(numl4)\n",
    "output = Dense(1, activation = \"linear\")(d4)\n",
    "m_num = Model(inputs = num_input, outputs = output)\n",
    "m_num.summary()"
   ]
  },
  {
   "cell_type": "code",
   "execution_count": null,
   "metadata": {
    "id": "VBegF1HbBkPI",
    "outputId": "4b4eb8a3-8eab-4d93-aa00-458c8d86c7fa",
    "scrolled": true
   },
   "outputs": [],
   "source": [
    "callback = EarlyStopping(monitor='val_loss', patience=5)\n",
    "adam = optimizers.Adam(lr = 0.00001)\n",
    "m_num.compile(optimizer = adam, loss = 'mae', metrics=['mse', 'mae'])\n",
    "\n",
    "'''fit the model with 20% validation'''\n",
    "m_num_history = m_num.fit(z_train, y_train, batch_size=100, epochs=10, validation_split = 0.2, callbacks = [callback])"
   ]
  },
  {
   "cell_type": "code",
   "execution_count": null,
   "metadata": {
    "id": "jNPwNss7BkPI",
    "outputId": "961e3a3f-10cc-4eec-8d93-f8cfd39b8b60"
   },
   "outputs": [],
   "source": [
    "yhat_train_num = m_num.predict(z_train)\n",
    "yhat_test_num = m_num.predict(z_test)\n",
    "plt.scatter(z_train[:,1], y_train, s = 5 , color = 'g', label = 'actual')\n",
    "plt.scatter(z_train[:,1], yhat_train_num, s=5, color = 'b', label ='predicted')\n",
    "plt.legend(loc = 1)\n",
    "print('\\nRsquared score on train is:',r2_score(y_train, yhat_train_num))\n",
    "print('\\nRsquared score on test is:',r2_score(y_test, yhat_test_num))\n",
    "print('\\nActual output:\\n', y_train[:5])\n",
    "print('\\nPredicted output:\\n', yhat_train_num[:5])\n",
    "plt.show()"
   ]
  },
  {
   "cell_type": "code",
   "execution_count": null,
   "metadata": {
    "id": "nWOuabrDBkPI",
    "outputId": "14a47945-5057-4d27-d174-2961ff03369c"
   },
   "outputs": [],
   "source": [
    "plt.subplot(2,1,1)\n",
    "plt.plot(range(len(m_num_history.history['val_loss'])),m_num_history.history['val_loss'],'-o', label = 'val_loss')\n",
    "plt.plot(range(len(m_num_history.history['loss'])),m_num_history.history['loss'],'-o', label = 'train_loss')\n",
    "plt.legend(loc = 1, fontsize = 10)\n",
    "plt.ylabel('MSE'), plt.title('DNN: Numeric data')\n",
    "plt.subplot(2,1,2)\n",
    "plt.plot(range(len(m_num_history.history['val_mae'])),m_num_history.history['val_mae'],'-o', label = 'validation MAE')\n",
    "plt.plot(range(len(m_num_history.history['mae'])),m_num_history.history['mae'],'-o', label = 'train MAE')\n",
    "plt.legend(loc = 1, fontsize = 10)\n",
    "plt.ylabel('MAE')\n",
    "plt.show()"
   ]
  },
  {
   "cell_type": "markdown",
   "metadata": {
    "id": "hiddwOfYBkPJ"
   },
   "source": [
    "#### DNN : Text only"
   ]
  },
  {
   "cell_type": "code",
   "execution_count": 114,
   "metadata": {
    "id": "nEJC5PSaBkPJ",
    "outputId": "07f1bf0d-a9ec-4b12-9a4e-90ed6e90555c"
   },
   "outputs": [],
   "source": [
    "m_text = Sequential() \n",
    "text_input = Input(shape = (300, ))\n",
    "numl = Dense(1000, activation = 'softmax')(text_input)\n",
    "d1 = Dropout(0.4)(numl)\n",
    "numl2 = Dense(500, activation = 'relu')(d1)\n",
    "d2 = Dropout(0.4)(numl2)\n",
    "numl3 = Dense(100, activation = 'relu')(d2)\n",
    "d3 = Dropout(0.3)(numl3)\n",
    "output = Dense(1, activation = \"linear\")(d3)\n",
    "m_text = Model(inputs = text_input, outputs = output)\n",
    "# m_text.summary()"
   ]
  },
  {
   "cell_type": "markdown",
   "metadata": {},
   "source": [
    "#### Train the model"
   ]
  },
  {
   "cell_type": "code",
   "execution_count": 115,
   "metadata": {
    "id": "s9iB56frBkPK",
    "outputId": "6f4ab41b-343b-4e6f-f528-ee9d95ca34a9",
    "scrolled": true
   },
   "outputs": [
    {
     "name": "stdout",
     "output_type": "stream",
     "text": [
      "Train on 6890 samples, validate on 1723 samples\n",
      "Epoch 1/100\n",
      "6890/6890 [==============================] - 3s 368us/step - loss: 140.1977 - mse: 140.1977 - mae: 7.3926 - val_loss: 110.5769 - val_mse: 110.5770 - val_mae: 5.3672\n",
      "Epoch 2/100\n",
      "6890/6890 [==============================] - 2s 254us/step - loss: 88.5883 - mse: 88.5883 - mae: 4.7345 - val_loss: 90.8011 - val_mse: 90.8011 - val_mae: 5.0135\n",
      "Epoch 3/100\n",
      "6890/6890 [==============================] - 2s 238us/step - loss: 81.0814 - mse: 81.0814 - mae: 4.9009 - val_loss: 88.7075 - val_mse: 88.7075 - val_mae: 5.2832\n",
      "Epoch 4/100\n",
      "6890/6890 [==============================] - 2s 262us/step - loss: 80.5943 - mse: 80.5943 - mae: 5.0981 - val_loss: 88.5088 - val_mse: 88.5089 - val_mae: 5.3805\n",
      "Epoch 5/100\n",
      "6890/6890 [==============================] - 2s 262us/step - loss: 80.5748 - mse: 80.5748 - mae: 5.1111 - val_loss: 88.5268 - val_mse: 88.5268 - val_mae: 5.3680\n",
      "Epoch 6/100\n",
      "6890/6890 [==============================] - 2s 249us/step - loss: 80.5866 - mse: 80.5866 - mae: 5.1207 - val_loss: 88.4896 - val_mse: 88.4896 - val_mae: 5.3961\n",
      "Epoch 7/100\n",
      "6890/6890 [==============================] - 2s 262us/step - loss: 80.5796 - mse: 80.5796 - mae: 5.1259 - val_loss: 88.5060 - val_mse: 88.5060 - val_mae: 5.3827\n",
      "Epoch 8/100\n",
      "6890/6890 [==============================] - 2s 302us/step - loss: 80.5918 - mse: 80.5918 - mae: 5.1284 - val_loss: 88.5242 - val_mse: 88.5242 - val_mae: 5.3697\n",
      "Epoch 9/100\n",
      "6890/6890 [==============================] - 2s 273us/step - loss: 80.5985 - mse: 80.5985 - mae: 5.1037 - val_loss: 88.4838 - val_mse: 88.4838 - val_mae: 5.4016\n",
      "Epoch 10/100\n",
      "6890/6890 [==============================] - 2s 261us/step - loss: 80.5911 - mse: 80.5911 - mae: 5.1631 - val_loss: 88.5871 - val_mse: 88.5871 - val_mae: 5.3339\n",
      "Epoch 11/100\n",
      "6890/6890 [==============================] - 2s 342us/step - loss: 80.5983 - mse: 80.5983 - mae: 5.1102 - val_loss: 88.5060 - val_mse: 88.5060 - val_mae: 5.3827\n",
      "Epoch 12/100\n",
      "6890/6890 [==============================] - 2s 321us/step - loss: 80.5848 - mse: 80.5848 - mae: 5.1001 - val_loss: 88.4991 - val_mse: 88.4991 - val_mae: 5.3881\n",
      "Epoch 13/100\n",
      "6890/6890 [==============================] - 2s 326us/step - loss: 80.5845 - mse: 80.5845 - mae: 5.0973 - val_loss: 88.4561 - val_mse: 88.4561 - val_mae: 5.4368\n",
      "Epoch 14/100\n",
      "6890/6890 [==============================] - 2s 348us/step - loss: 80.6112 - mse: 80.6112 - mae: 5.1377 - val_loss: 88.5330 - val_mse: 88.5330 - val_mae: 5.3640\n",
      "Epoch 15/100\n",
      "6890/6890 [==============================] - 2s 317us/step - loss: 80.5843 - mse: 80.5842 - mae: 5.1440 - val_loss: 88.5329 - val_mse: 88.5329 - val_mae: 5.3640\n",
      "Epoch 16/100\n",
      "6890/6890 [==============================] - 3s 378us/step - loss: 80.5868 - mse: 80.5868 - mae: 5.1012 - val_loss: 88.5091 - val_mse: 88.5091 - val_mae: 5.3804\n",
      "Epoch 17/100\n",
      "6890/6890 [==============================] - 3s 407us/step - loss: 80.5983 - mse: 80.5983 - mae: 5.1455 - val_loss: 88.5728 - val_mse: 88.5728 - val_mae: 5.3411\n",
      "Epoch 18/100\n",
      "6890/6890 [==============================] - 3s 404us/step - loss: 80.5912 - mse: 80.5912 - mae: 5.1189 - val_loss: 88.5401 - val_mse: 88.5401 - val_mae: 5.3596\n"
     ]
    }
   ],
   "source": [
    "callback = EarlyStopping(monitor='val_loss', patience=5)\n",
    "adam = optimizers.Adam(lr = 0.1)\n",
    "m_text.compile(optimizer = adam, loss = 'mse', metrics=['mse', 'mae'])\n",
    "\n",
    "'''fit the model with 20% validation'''\n",
    "m_text_history = m_text.fit(x_train, y_train, batch_size=100, epochs=100, validation_split = 0.2, callbacks = [callback])"
   ]
  },
  {
   "cell_type": "markdown",
   "metadata": {},
   "source": [
    "#### Score"
   ]
  },
  {
   "cell_type": "code",
   "execution_count": 110,
   "metadata": {
    "id": "yesxeMllBkPK",
    "outputId": "b87732f3-2119-41a1-f1f9-86cf0b54cb81",
    "scrolled": true
   },
   "outputs": [
    {
     "name": "stdout",
     "output_type": "stream",
     "text": [
      "\n",
      "Rsquared score on train is: -0.24854659865118345\n",
      "\n",
      "Rsquared score on test is: -0.27519740196658793\n",
      "\n",
      "Actual output:\n",
      " [14 17 12 20  5]\n",
      "\n",
      "Predicted output:\n",
      " [[8.082469 ]\n",
      " [7.527015 ]\n",
      " [2.6896334]\n",
      " [5.345963 ]\n",
      " [8.564804 ]]\n"
     ]
    },
    {
     "data": {
      "image/png": "[encoded data removed]",
      "text/plain": [
       "<Figure size 432x288 with 1 Axes>"
      ]
     },
     "metadata": {
      "needs_background": "light"
     },
     "output_type": "display_data"
    }
   ],
   "source": [
    "yhat_train_text = m_text.predict(x_train)\n",
    "yhat_test_text = m_text.predict(x_test)\n",
    "plt.scatter(range(len(y_train)), y_train, s = 5 , color = 'g', label = 'actual')\n",
    "plt.scatter(range(len(y_train)), yhat_train_text, s=5, color = 'b', label ='predicted')\n",
    "plt.legend(loc = 1)\n",
    "print('\\nRsquared score on train is:',r2_score(y_train, yhat_train_text))\n",
    "print('\\nRsquared score on test is:',r2_score(y_test, yhat_test_text))\n",
    "print('\\nActual output:\\n', y_train[:5])\n",
    "print('\\nPredicted output:\\n', yhat_train_text[:5])\n",
    "plt.show()"
   ]
  },
  {
   "cell_type": "code",
   "execution_count": null,
   "metadata": {
    "id": "J4qfRUZhBkPK",
    "outputId": "b3c48cd5-b919-41e3-f6ca-4ffab67e402e"
   },
   "outputs": [],
   "source": [
    "plt.subplot(2,1,1)\n",
    "plt.plot(range(len(m_text_history.history['val_loss'])),m_text_history.history['val_loss'],'-o', label = 'val_loss')\n",
    "plt.plot(range(len(m_text_history.history['loss'])),m_text_history.history['loss'],'-o', label = 'train_loss')\n",
    "plt.legend(loc = 1, fontsize = 10)\n",
    "plt.ylabel('MSE'), plt.title('DNN: Text data')\n",
    "plt.subplot(2,1,2)\n",
    "plt.plot(range(len(m_text_history.history['val_mae'])),m_text_history.history['val_mae'],'-o', label = 'validation MAE')\n",
    "plt.plot(range(len(m_text_history.history['mae'])),m_text_history.history['mae'],'-o', label = 'train MAE')\n",
    "plt.legend(loc = 1, fontsize = 10)\n",
    "plt.ylabel('MAE')\n",
    "plt.show()"
   ]
  },
  {
   "cell_type": "markdown",
   "metadata": {
    "id": "7duc52noBkPK"
   },
   "source": [
    "#### RNN : Text only"
   ]
  },
  {
   "cell_type": "code",
   "execution_count": 34,
   "metadata": {
    "id": "34Ep68kjBkPK",
    "outputId": "826a98f1-2b99-4b56-d103-74b0dae36128"
   },
   "outputs": [
    {
     "name": "stdout",
     "output_type": "stream",
     "text": [
      "Model: \"model_9\"\n",
      "_________________________________________________________________\n",
      "Layer (type)                 Output Shape              Param #   \n",
      "=================================================================\n",
      "input_13 (InputLayer)        (None, 300)               0         \n",
      "_________________________________________________________________\n",
      "embedding_9 (Embedding)      (None, 300, 250)          12500000  \n",
      "_________________________________________________________________\n",
      "dense_21 (Dense)             (None, 300, 100)          25100     \n",
      "_________________________________________________________________\n",
      "lstm_20 (LSTM)               (None, 300, 100)          80400     \n",
      "_________________________________________________________________\n",
      "dropout_21 (Dropout)         (None, 300, 100)          0         \n",
      "_________________________________________________________________\n",
      "lstm_21 (LSTM)               (None, 300, 50)           30200     \n",
      "_________________________________________________________________\n",
      "dropout_22 (Dropout)         (None, 300, 50)           0         \n",
      "_________________________________________________________________\n",
      "lstm_22 (LSTM)               (None, 300, 50)           20200     \n",
      "_________________________________________________________________\n",
      "gru_6 (GRU)                  (None, 50)                15150     \n",
      "_________________________________________________________________\n",
      "dense_22 (Dense)             (None, 1)                 51        \n",
      "=================================================================\n",
      "Total params: 12,671,101\n",
      "Trainable params: 12,671,101\n",
      "Non-trainable params: 0\n",
      "_________________________________________________________________\n"
     ]
    }
   ],
   "source": [
    "embedding_size = 250\n",
    "\n",
    "nlp_input = Input(shape=(max_sequence,))\n",
    "emb = Embedding(max_words, embedding_size, input_length = max_sequence)(nlp_input)  # text input layer\n",
    "l1 = Dense(100, activation = 'elu')(emb)\n",
    "nl2 = LSTM(100, activation = 'relu', kernel_initializer = 'glorot_uniform', return_sequences=True)(l1)\n",
    "d1 = Dropout(0.2)(nl2)\n",
    "nl3 = LSTM(50, activation = 'relu', kernel_initializer = 'glorot_uniform', return_sequences=True)(d1)\n",
    "d2 = Dropout(0.2)(nl3)\n",
    "nl4 = LSTM(50, activation = 'tanh', dropout = 0.2, recurrent_dropout = 0.15, return_sequences = True)(d2)\n",
    "nl5 = GRU(50, activation = 'relu', recurrent_activation = 'tanh')(nl4)\n",
    "\n",
    "output = Dense(1, activation = \"linear\")(nl5)\n",
    "\n",
    "rnn_text = Model(inputs = [nlp_input], outputs = [output])\n",
    "rnn_text.summary()"
   ]
  },
  {
   "cell_type": "code",
   "execution_count": 35,
   "metadata": {
    "id": "8KW4mXUHBkPL",
    "outputId": "165239ed-7227-45ed-abb0-b652a90b04fe"
   },
   "outputs": [
    {
     "name": "stderr",
     "output_type": "stream",
     "text": [
      "C:\\Users\\stan\\AppData\\Roaming\\Python\\Python37\\site-packages\\tensorflow\\python\\framework\\indexed_slices.py:414: UserWarning: Converting sparse IndexedSlices to a dense Tensor of unknown shape. This may consume a large amount of memory.\n",
      "  \"Converting sparse IndexedSlices to a dense Tensor of unknown shape. \"\n"
     ]
    },
    {
     "name": "stdout",
     "output_type": "stream",
     "text": [
      "Train on 6890 samples, validate on 1723 samples\n",
      "Epoch 1/1\n",
      "6890/6890 [==============================] - 276s 40ms/step - loss: nan - mae: nan - mse: nan - val_loss: nan - val_mae: nan - val_mse: nan\n"
     ]
    },
    {
     "name": "stderr",
     "output_type": "stream",
     "text": [
      "c:\\users\\stan\\appdata\\local\\programs\\python\\python37\\lib\\site-packages\\keras\\callbacks\\callbacks.py:820: RuntimeWarning: invalid value encountered in less\n",
      "  if self.monitor_op(current - self.min_delta, self.best):\n"
     ]
    }
   ],
   "source": [
    "solver = optimizers.Adam(learning_rate = 1)\n",
    "callback = EarlyStopping(monitor='val_loss', patience=5)\n",
    "rnn_text.compile(optimizer = solver,loss = 'mse', metrics = ['mae','mse'])\n",
    "rnn_text_history = rnn_text.fit(x_train, y_train, batch_size = 100, epochs = 1, validation_split = 0.2, callbacks = [callback])"
   ]
  },
  {
   "cell_type": "code",
   "execution_count": null,
   "metadata": {
    "id": "KDj-KDo8BkPL",
    "outputId": "0a5a5325-d319-4714-ed48-5ae5247e0d94"
   },
   "outputs": [],
   "source": [
    "yhat_train_rnn_text = rnn_text.predict(x_train)\n",
    "yhat_test_rnn_text = rnn_text.predict(x_test)\n",
    "plt.scatter(x_train[:,1], y_train, s = 5 , color = 'g', label = 'actual')\n",
    "plt.scatter(x_train[:,1], yhat_train_rnn_text, s=5, color = 'b', label ='predicted')\n",
    "plt.legend(loc = 1)\n",
    "print('\\nRsquared score on train is:',r2_score(y_train, yhat_train_rnn_text))\n",
    "print('\\nRsquared score on test is:',r2_score(y_test, yhat_test_rnn_text))\n",
    "print('\\nActual output:\\n', y_train[:5])\n",
    "print('\\nPredicted output:\\n', yhat_train_rnn_text[:5])\n",
    "plt.show()"
   ]
  },
  {
   "cell_type": "code",
   "execution_count": null,
   "metadata": {
    "id": "Pmw4jyyQBkPL",
    "outputId": "c4583c06-2f9a-4a74-c485-bee3eb19e1e8"
   },
   "outputs": [],
   "source": [
    "plt.subplot(2,1,1)\n",
    "plt.plot(range(len(rnn_text_history.history['val_loss'])),rnn_text_history.history['val_loss'],'-o', label = 'val_loss')\n",
    "plt.plot(range(len(rnn_text_history.history['loss'])),rnn_text_history.history['loss'],'-o', label = 'train_loss')\n",
    "plt.legend(loc = 1, fontsize = 10)\n",
    "plt.ylabel('MSE'), plt.title('RNN : Text data')\n",
    "plt.subplot(2,1,2)\n",
    "plt.plot(range(len(rnn_text_history.history['val_mae'])),rnn_text_history.history['val_mae'],'-o', label = 'validation MAE')\n",
    "plt.plot(range(len(rnn_text_history.history['mae'])),rnn_text_history.history['mae'],'-o', label = 'train MAE')\n",
    "plt.legend(loc = 1, fontsize = 10)\n",
    "plt.ylabel('MAE')\n",
    "plt.show()"
   ]
  },
  {
   "cell_type": "markdown",
   "metadata": {
    "id": "ua0GeW9yBkPM"
   },
   "source": [
    "#### RNN : Text & DNN : Numeric"
   ]
  },
  {
   "cell_type": "code",
   "execution_count": null,
   "metadata": {
    "id": "j-DP-Mc9BkPM",
    "outputId": "d976f3e9-9560-4c66-df01-ecf8f04c0c4c"
   },
   "outputs": [],
   "source": [
    "embedding_size = 100\n",
    "\n",
    "'''Sequential model'''\n",
    "m = Sequential() \n",
    "\n",
    "'''Numeric input layer'''\n",
    "num_input = Input(shape = (10, ))\n",
    "numl = Dense(100, activation = 'relu')(num_input)\n",
    "dl = Dropout(0.2)(numl)\n",
    "\n",
    "'''Text input layer'''\n",
    "nlp_input = Input(shape=(max_sequence,))\n",
    "emb = Embedding(max_words, embedding_size, input_length = max_sequence)(nlp_input)  # text input layer\n",
    "nl2 = LSTM(200, activation = 'tanh', kernel_initializer = 'glorot_uniform', return_sequences=True)(emb)\n",
    "d1 = Dropout(0.2)(nl2)\n",
    "nl3 = LSTM(100, activation = 'tanh', kernel_initializer = 'glorot_uniform', return_sequences=True)(d1)\n",
    "d2 = Dropout(0.2)(nl3)\n",
    "nl4 = LSTM(50, activation = 'tanh', dropout = 0.2, recurrent_dropout = 0.2, return_sequences = True)(d2)\n",
    "nl5 = GRU(50, activation = 'tanh', recurrent_activation = 'tanh')(nl4)\n",
    "\n",
    "merge = concatenate([dl, nl5])   # merge Dense and LSTM layers\n",
    "\n",
    "output = Dense(1, activation = \"linear\")(merge)\n",
    "\n",
    "m = Model(inputs = [num_input, nlp_input], outputs = [output])\n",
    "\n",
    "m.summary()"
   ]
  },
  {
   "cell_type": "code",
   "execution_count": null,
   "metadata": {
    "id": "A8Q3wVLRBkPM"
   },
   "outputs": [],
   "source": [
    "solver = optimizers.Adam(learning_rate = 1)\n",
    "callback = EarlyStopping(monitor='val_loss', patience=5)\n",
    "m.compile(optimizer = solver,loss = 'mae', metrics = ['mae','mse'])\n",
    "history = m.fit([z_train, x_train], y_train, batch_size = 100, epochs = 1, validation_split = 0.2, callbacks = [callback])"
   ]
  },
  {
   "cell_type": "code",
   "execution_count": null,
   "metadata": {
    "id": "Ui7F5ZfNBkPN"
   },
   "outputs": [],
   "source": [
    "yhat_train = m.predict([z_train, x_train])\n",
    "yhat_test = m.predict([z_test, x_test])\n",
    "print('Rsquared score on train is:',r2_score(y_train, yhat_train))\n",
    "print('Rsquared score on test is:',r2_score(y_test, yhat_test))\n",
    "plt.scatter(z_train[:,1], y_train, s = 5 , color = 'g', label = 'actual')\n",
    "plt.scatter(z_train[:,1], yhat_train, s=5, color = 'b', label ='predicted')\n",
    "plt.legend(loc = 1)\n",
    "plt.show()"
   ]
  },
  {
   "cell_type": "code",
   "execution_count": null,
   "metadata": {
    "id": "_kTvrYBwBkPN"
   },
   "outputs": [],
   "source": [
    "Weights = []\n",
    "for layer in m.layers:\n",
    "    Weights.append({layer : layer.get_weights()})\n",
    "Weights"
   ]
  },
  {
   "cell_type": "code",
   "execution_count": null,
   "metadata": {
    "id": "XI9rFdmZBkPN"
   },
   "outputs": [],
   "source": []
  }
 ],
 "metadata": {
  "colab": {
   "name": "Model.ipynb",
   "provenance": []
  },
  "kernelspec": {
   "display_name": "Python 3",
   "language": "python",
   "name": "python3"
  },
  "language_info": {
   "codemirror_mode": {
    "name": "ipython",
    "version": 3
   },
   "file_extension": ".py",
   "mimetype": "text/x-python",
   "name": "python",
   "nbconvert_exporter": "python",
   "pygments_lexer": "ipython3",
   "version": "3.7.9"
  }
 },
 "nbformat": 4,
 "nbformat_minor": 1
}
