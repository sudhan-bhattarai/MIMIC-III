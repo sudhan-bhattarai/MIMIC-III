{
 "cells": [
  {
   "cell_type": "markdown",
   "metadata": {
    "id": "rZFa-Ok2qb1H"
   },
   "source": [
    "## Libraries"
   ]
  },
  {
   "cell_type": "code",
   "execution_count": null,
   "metadata": {
    "id": "3imaLMuIqb1I",
    "scrolled": false
   },
   "outputs": [],
   "source": [
    "import pandas as pd\n",
    "import numpy as np\n",
    "import matplotlib.pyplot as plt\n",
    "import datetime\n",
    "import nltk\n",
    "from nltk.corpus import stopwords\n",
    "import re"
   ]
  },
  {
   "cell_type": "markdown",
   "metadata": {
    "id": "TsVLeDfBqb1I"
   },
   "source": [
    "## Data"
   ]
  },
  {
   "cell_type": "code",
   "execution_count": null,
   "metadata": {
    "id": "1sc-SuBpqb1I",
    "outputId": "f1f95dd0-f320-49d8-8eb2-661349c72f08"
   },
   "outputs": [],
   "source": [
    "df_a = pd.read_csv(r'C:\\Users\\stan\\mimic-iii-data\\ADMISSIONS.csv.gz')  # length of stay and id's\n",
    "df_e = pd.read_csv(r'C:\\Users\\stan\\mimic-iii-data\\NOTEEVENTS.csv.gz')  # text data\n",
    "df_p = pd.read_csv(r'C:\\Users\\stan\\mimic-iii-data\\PROCEDURES_ICD.csv.gz')  # procedure code for each patients\n",
    "df_dp = pd.read_csv(r'C:\\Users\\stan\\mimic-iii-data\\D_ICD_PROCEDURES.csv.gz')  # procedure name\n",
    "df_d = pd.read_csv(r'C:\\Users\\stan\\mimic-iii-data\\DIAGNOSES_ICD.csv.gz')  # diagnosis code for each patient\n",
    "df_dd = pd.read_csv(r'C:\\Users\\stan\\mimic-iii-data\\D_ICD_DIAGNOSES.csv.gz')  # diagnosis name\n",
    "df_pa = pd.read_csv(r'C:\\Users\\stan\\mimic-iii-data\\PATIENTS.csv.gz') # patients' information\n",
    "df_is = pd.read_csv(r'C:\\Users\\stan\\mimic-iii-data\\ICUSTAYS.csv.gz')  # icu stay length"
   ]
  },
  {
   "cell_type": "markdown",
   "metadata": {},
   "source": [
    "### Taking one patient group"
   ]
  },
  {
   "cell_type": "code",
   "execution_count": null,
   "metadata": {},
   "outputs": [],
   "source": [
    "'''Only considering the patients who were discharged to Home Healthcare'''\n",
    "\n",
    "df_hhc = df_a.loc[df_a.DISCHARGE_LOCATION == \"HOME HEALTH CARE\"]\n",
    "df = pd.DataFrame()\n",
    "df = df_hhc[[\"SUBJECT_ID\", \"HADM_ID\",\"MARITAL_STATUS\", \"ADMITTIME\", \"DISCHTIME\"]]\n",
    "df.dropna(inplace = True)\n",
    "df.reset_index(inplace = True, drop = True)\n",
    "df.head()"
   ]
  },
  {
   "cell_type": "markdown",
   "metadata": {
    "id": "3yXefWaZqb1I"
   },
   "source": [
    "### Marital Status"
   ]
  },
  {
   "cell_type": "code",
   "execution_count": null,
   "metadata": {
    "id": "l_atTgrkqb1J",
    "outputId": "14ecc255-4579-4578-8853-9c335ee48620"
   },
   "outputs": [],
   "source": [
    "'''Separating the marital status into categorical columns'''\n",
    "\n",
    "for column in df[\"MARITAL_STATUS\"].unique():\n",
    "    df[column] = 0\n",
    "\n",
    "for key in df[\"MARITAL_STATUS\"].unique():\n",
    "    for (i, value) in enumerate(df[\"MARITAL_STATUS\"].values):\n",
    "        if str(value) == key:\n",
    "            df[key][i] = 1\n",
    "df.drop(\"MARITAL_STATUS\", axis = 1, inplace = True)\n",
    "df.reset_index(inplace = True, drop = True)\n",
    "df.head()"
   ]
  },
  {
   "cell_type": "markdown",
   "metadata": {},
   "source": [
    "### IDs, Text input and Output (Length of stay)"
   ]
  },
  {
   "cell_type": "code",
   "execution_count": null,
   "metadata": {},
   "outputs": [],
   "source": [
    "df[\"LENGTH_OF_STAY\"] = (pd.to_datetime(df[\"DISCHTIME\"]) - pd.to_datetime(df[\"ADMITTIME\"])).dt.days\n",
    "df = df.merge(df_e[[\"HADM_ID\",\"TEXT\"]], left_on = \"HADM_ID\", right_on = \"HADM_ID\")\n",
    "df.drop(['DISCHTIME', 'ADMITTIME'], 1, inplace = True)\n",
    "df.head()"
   ]
  },
  {
   "cell_type": "code",
   "execution_count": null,
   "metadata": {},
   "outputs": [],
   "source": [
    "df.TEXT[0]"
   ]
  },
  {
   "cell_type": "markdown",
   "metadata": {},
   "source": [
    "### Length of ICU stay (Input)"
   ]
  },
  {
   "cell_type": "code",
   "execution_count": null,
   "metadata": {},
   "outputs": [],
   "source": [
    "df2 = df\n",
    "df2 = df2.merge(df_is[\"LOS\"], left_on = \"HADM_ID\", right_on = df_is[\"HADM_ID\"])\n",
    "df2.rename(columns={\"LOS\": \"ICU_LOS\"}, inplace = True)\n",
    "df2.head()"
   ]
  },
  {
   "cell_type": "markdown",
   "metadata": {},
   "source": [
    "### Diagnoses"
   ]
  },
  {
   "cell_type": "code",
   "execution_count": null,
   "metadata": {},
   "outputs": [],
   "source": [
    "df3 = df2\n",
    "df3 = df3.merge(df_d[[\"ICD9_CODE\"]], left_on = \"HADM_ID\", right_on = df_d[\"HADM_ID\"], suffixes = (\"_PROCEDURES\", \"_DIAGNOSES\"))\n",
    "df3.head()"
   ]
  },
  {
   "cell_type": "code",
   "execution_count": null,
   "metadata": {},
   "outputs": [],
   "source": [
    "df4 = df3\n",
    "df4 = df4.groupby('HADM_ID').agg({'SUBJECT_ID': 'first',\n",
    "                                  'ICD9_CODE': 'count',\n",
    "                                  'LENGTH_OF_STAY': 'first',\n",
    "                                  'ICU_LOS': 'first',\n",
    "                                  'TEXT': 'first',\n",
    "                                  'MARRIED': 'first', \n",
    "                                  'DIVORCED': 'first', \n",
    "                                  'SINGLE': 'first',\n",
    "                                  'SEPARATED': 'first', \n",
    "                                  'WIDOWED': 'first', \n",
    "                                  'UNKNOWN (DEFAULT)': 'first', \n",
    "                                  'LIFE PARTNER': 'first'})\n",
    "df4.rename(columns={\"ICD9_CODE\": \"NUMBER_OF_DIAGNOSIS\"}, inplace= True)\n",
    "df4.head()"
   ]
  },
  {
   "cell_type": "markdown",
   "metadata": {},
   "source": [
    "### Procedures"
   ]
  },
  {
   "cell_type": "code",
   "execution_count": null,
   "metadata": {},
   "outputs": [],
   "source": [
    "df5 = df4\n",
    "df5 = df5.merge(df_p[\"ICD9_CODE\"], left_on = \"HADM_ID\", right_on = df_p[\"HADM_ID\"])\n",
    "df5.head()"
   ]
  },
  {
   "cell_type": "code",
   "execution_count": null,
   "metadata": {},
   "outputs": [],
   "source": [
    "df5 = df5.groupby('HADM_ID').agg({'SUBJECT_ID': 'first',\n",
    "                                  'ICD9_CODE': 'count',\n",
    "                                  'NUMBER_OF_DIAGNOSIS': 'first',\n",
    "                                  'LENGTH_OF_STAY': 'first',\n",
    "                                  'ICU_LOS': 'first',\n",
    "                                  'TEXT': 'first',\n",
    "                                  'MARRIED': 'first', \n",
    "                                  'DIVORCED': 'first', \n",
    "                                  'SINGLE': 'first',\n",
    "                                  'SEPARATED': 'first', \n",
    "                                  'WIDOWED': 'first', \n",
    "                                  'UNKNOWN (DEFAULT)': 'first', \n",
    "                                  'LIFE PARTNER': 'first'})\n",
    "df5.rename(columns={\"ICD9_CODE\": \"NUMBER_OF_PROCEDURES\"}, inplace= True)\n",
    "df5.dropna(inplace = True)\n",
    "df5.head()"
   ]
  },
  {
   "cell_type": "markdown",
   "metadata": {
    "id": "dEEuruYiqb1J"
   },
   "source": [
    "### Function: text processing"
   ]
  },
  {
   "cell_type": "code",
   "execution_count": null,
   "metadata": {
    "id": "pC9XZk2Tqb1J"
   },
   "outputs": [],
   "source": [
    "replace_space = re.compile('[!\"#$%&()*+,-./:;<=>?@[\\]^_`{|}~]')\n",
    "clear_symbols = re.compile('[^0-9a-z#+_]')\n",
    "remove_stopwords = set(stopwords.words('english'))\n",
    "def clean_text(text):\n",
    "    text = text.lower()\n",
    "    text = replace_space.sub(' ', text)\n",
    "    text = clear_symbols.sub('', text)\n",
    "    text = ' '.join(word for word in text.split() if word not in remove_stopwords)\n",
    "    return text\n",
    "\n",
    "df5.TEXT = df5.TEXT.apply(clean_text)\n",
    "df5.reset_index(inplace = True)\n",
    "df5.head()"
   ]
  },
  {
   "cell_type": "markdown",
   "metadata": {},
   "source": [
    "### Dropping texts shorter than the max sequence"
   ]
  },
  {
   "cell_type": "code",
   "execution_count": null,
   "metadata": {
    "id": "kv9sFCXzqb1J",
    "outputId": "110d44a4-f4f6-423b-b28f-8ecec95d6c5f"
   },
   "outputs": [],
   "source": [
    "df6 = df5\n",
    "max_sequence = 500\n",
    "for (pos, text) in enumerate(df6[\"TEXT\"].values):\n",
    "    text_length = len(text.split())\n",
    "    if text_length <= (max_sequence):\n",
    "        df6.drop([pos], axis = 0, inplace = True)\n",
    "df6.head()"
   ]
  },
  {
   "cell_type": "markdown",
   "metadata": {
    "id": "QbC6Uuzbqb1J",
    "outputId": "b73181ad-c333-42f2-f1af-b493ba9373e3"
   },
   "source": [
    "### Get sample from population Text"
   ]
  },
  {
   "cell_type": "code",
   "execution_count": null,
   "metadata": {
    "id": "WVNSyoUJqb1J",
    "scrolled": true
   },
   "outputs": [],
   "source": [
    "texts_data = []\n",
    "for (i, text) in enumerate(df6[\"TEXT\"].values):\n",
    "    text_length = None\n",
    "    chosen_text_splitted = None\n",
    "    chosen_text_whole = None\n",
    "    text_length = len(text.split())\n",
    "    random_key = np.random.randint(0, (text_length - max_sequence))\n",
    "    chosen_text_splitted = text.split()[random_key: (random_key + max_sequence)]\n",
    "    chosen_text_whole = ' '.join(chosen_text_splitted)\n",
    "    df6[\"TEXT\"][i] = chosen_text_whole\n",
    "df6.to_csv('data_extracted.csv')\n",
    "df6.head()"
   ]
  }
 ],
 "metadata": {
  "colab": {
   "name": "RNN.ipynb",
   "provenance": []
  },
  "kernelspec": {
   "display_name": "Python 3",
   "language": "python",
   "name": "python3"
  },
  "language_info": {
   "codemirror_mode": {
    "name": "ipython",
    "version": 3
   },
   "file_extension": ".py",
   "mimetype": "text/x-python",
   "name": "python",
   "nbconvert_exporter": "python",
   "pygments_lexer": "ipython3",
   "version": "3.7.9"
  }
 },
 "nbformat": 4,
 "nbformat_minor": 1
}
